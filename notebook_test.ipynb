{
 "cells": [
  {
   "cell_type": "code",
   "execution_count": 13,
   "metadata": {},
   "outputs": [
    {
     "name": "stderr",
     "output_type": "stream",
     "text": [
      "c:\\Users\\roman\\miniforge3\\envs\\AI\\lib\\site-packages\\tqdm\\auto.py:22: TqdmWarning: IProgress not found. Please update jupyter and ipywidgets. See https://ipywidgets.readthedocs.io/en/stable/user_install.html\n",
      "  from .autonotebook import tqdm as notebook_tqdm\n"
     ]
    }
   ],
   "source": [
    "from data import *\n",
    "import pickle\n",
    "from architectures.datasets import *"
   ]
  },
  {
   "cell_type": "code",
   "execution_count": 7,
   "metadata": {},
   "outputs": [],
   "source": [
    "path_data = \"D:\\\\OneDrive\\\\OneDrive - enpc.fr\\\\Roman Cloud\\\\altegrad_challenge_2022\\\\\"\n",
    "adj = pickle.load(open(path_data + 'adj.pkl', 'rb'))\n",
    "features = pickle.load(open(path_data + 'features.pkl', 'rb'))\n",
    "edge_features = pickle.load(open(path_data + 'edge_features.pkl', 'rb'))"
   ]
  },
  {
   "cell_type": "code",
   "execution_count": 8,
   "metadata": {},
   "outputs": [],
   "source": [
    "adj_train, features_train, edge_features_train, y_train, adj_test, features_test,\\\n",
    "        edge_features_test, proteins_test = split_train_test(adj, features, edge_features, path=path_data)"
   ]
  },
  {
   "cell_type": "code",
   "execution_count": 39,
   "metadata": {},
   "outputs": [],
   "source": [
    "class DGLGraphDataset(Dataset):\n",
    "    def __init__(self, adj, features, edge_features, labels=None, train=True):\n",
    "        self.adj = adj\n",
    "        self.features = features\n",
    "        self.edge_features = edge_features\n",
    "        self.labels = labels\n",
    "        self.train = train\n",
    "\n",
    "    def __len__(self):\n",
    "        return len(self.adj)\n",
    "\n",
    "    def __getitem__(self, idx):\n",
    "        g = dgl.from_scipy(self.adj[idx])\n",
    "        g.ndata['feat'] = torch.FloatTensor(self.features[idx])\n",
    "        g.edata['feat'] = torch.FloatTensor(self.edge_features[idx])\n",
    "        \n",
    "        if self.train :\n",
    "            return g, self.labels[idx]\n",
    "        else : \n",
    "            return g"
   ]
  },
  {
   "cell_type": "code",
   "execution_count": 40,
   "metadata": {},
   "outputs": [],
   "source": [
    "dataset_train = DGLGraphDataset(adj_train, features_train, edge_features_train, y_train)\n"
   ]
  },
  {
   "cell_type": "code",
   "execution_count": 41,
   "metadata": {},
   "outputs": [],
   "source": [
    "g = dataset_train[0][0]"
   ]
  },
  {
   "cell_type": "code",
   "execution_count": 43,
   "metadata": {},
   "outputs": [
    {
     "ename": "TypeError",
     "evalue": "edge_filter() missing 1 required positional argument: 'eid'",
     "output_type": "error",
     "traceback": [
      "\u001b[1;31m---------------------------------------------------------------------------\u001b[0m",
      "\u001b[1;31mTypeError\u001b[0m                                 Traceback (most recent call last)",
      "Cell \u001b[1;32mIn[43], line 4\u001b[0m\n\u001b[0;32m      1\u001b[0m \u001b[39mdef\u001b[39;00m \u001b[39medge_filter\u001b[39m(edata, eid):\n\u001b[0;32m      2\u001b[0m     \u001b[39mreturn\u001b[39;00m edata[\u001b[39m'\u001b[39m\u001b[39mfeat\u001b[39m\u001b[39m'\u001b[39m][\u001b[39m0\u001b[39m] \u001b[39m==\u001b[39m \u001b[39m1\u001b[39m\n\u001b[1;32m----> 4\u001b[0m g_sub \u001b[39m=\u001b[39m g\u001b[39m.\u001b[39;49mfilter_edges(edge_filter)\n",
      "File \u001b[1;32mc:\\Users\\roman\\miniforge3\\envs\\AI\\lib\\site-packages\\dgl\\heterograph.py:5356\u001b[0m, in \u001b[0;36mDGLHeteroGraph.filter_edges\u001b[1;34m(self, predicate, edges, etype)\u001b[0m\n\u001b[0;32m   5353\u001b[0m     \u001b[39mraise\u001b[39;00m \u001b[39mValueError\u001b[39;00m(\u001b[39m'\u001b[39m\u001b[39mUnsupported type of edges:\u001b[39m\u001b[39m'\u001b[39m, \u001b[39mtype\u001b[39m(edges))\n\u001b[0;32m   5355\u001b[0m \u001b[39mwith\u001b[39;00m \u001b[39mself\u001b[39m\u001b[39m.\u001b[39mlocal_scope():\n\u001b[1;32m-> 5356\u001b[0m     \u001b[39mself\u001b[39;49m\u001b[39m.\u001b[39;49mapply_edges(\u001b[39mlambda\u001b[39;49;00m ebatch: {\u001b[39m'\u001b[39;49m\u001b[39m_mask\u001b[39;49m\u001b[39m'\u001b[39;49m : predicate(ebatch)}, edges, etype)\n\u001b[0;32m   5357\u001b[0m     etype \u001b[39m=\u001b[39m \u001b[39mself\u001b[39m\u001b[39m.\u001b[39mcanonical_etypes[\u001b[39m0\u001b[39m] \u001b[39mif\u001b[39;00m etype \u001b[39mis\u001b[39;00m \u001b[39mNone\u001b[39;00m \u001b[39melse\u001b[39;00m etype\n\u001b[0;32m   5358\u001b[0m     mask \u001b[39m=\u001b[39m \u001b[39mself\u001b[39m\u001b[39m.\u001b[39medges[etype]\u001b[39m.\u001b[39mdata[\u001b[39m'\u001b[39m\u001b[39m_mask\u001b[39m\u001b[39m'\u001b[39m]\n",
      "File \u001b[1;32mc:\\Users\\roman\\miniforge3\\envs\\AI\\lib\\site-packages\\dgl\\heterograph.py:4460\u001b[0m, in \u001b[0;36mDGLHeteroGraph.apply_edges\u001b[1;34m(self, func, edges, etype, inplace)\u001b[0m\n\u001b[0;32m   4458\u001b[0m     edata \u001b[39m=\u001b[39m core\u001b[39m.\u001b[39minvoke_gsddmm(g, func)\n\u001b[0;32m   4459\u001b[0m \u001b[39melse\u001b[39;00m:\n\u001b[1;32m-> 4460\u001b[0m     edata \u001b[39m=\u001b[39m core\u001b[39m.\u001b[39;49minvoke_edge_udf(g, eid, etype, func)\n\u001b[0;32m   4462\u001b[0m \u001b[39mif\u001b[39;00m \u001b[39mself\u001b[39m\u001b[39m.\u001b[39m_graph\u001b[39m.\u001b[39mnumber_of_etypes() \u001b[39m==\u001b[39m \u001b[39m1\u001b[39m \u001b[39mor\u001b[39;00m etype \u001b[39mis\u001b[39;00m \u001b[39mnot\u001b[39;00m \u001b[39mNone\u001b[39;00m:\n\u001b[0;32m   4463\u001b[0m     \u001b[39mself\u001b[39m\u001b[39m.\u001b[39m_set_e_repr(etid, eid, edata)\n",
      "File \u001b[1;32mc:\\Users\\roman\\miniforge3\\envs\\AI\\lib\\site-packages\\dgl\\core.py:85\u001b[0m, in \u001b[0;36minvoke_edge_udf\u001b[1;34m(graph, eid, etype, func, orig_eid)\u001b[0m\n\u001b[0;32m     82\u001b[0m dstdata \u001b[39m=\u001b[39m graph\u001b[39m.\u001b[39m_node_frames[dtid]\u001b[39m.\u001b[39msubframe(v)\n\u001b[0;32m     83\u001b[0m ebatch \u001b[39m=\u001b[39m EdgeBatch(graph, eid \u001b[39mif\u001b[39;00m orig_eid \u001b[39mis\u001b[39;00m \u001b[39mNone\u001b[39;00m \u001b[39melse\u001b[39;00m orig_eid,\n\u001b[0;32m     84\u001b[0m                    etype, srcdata, edata, dstdata)\n\u001b[1;32m---> 85\u001b[0m \u001b[39mreturn\u001b[39;00m func(ebatch)\n",
      "File \u001b[1;32mc:\\Users\\roman\\miniforge3\\envs\\AI\\lib\\site-packages\\dgl\\heterograph.py:5356\u001b[0m, in \u001b[0;36mDGLHeteroGraph.filter_edges.<locals>.<lambda>\u001b[1;34m(ebatch)\u001b[0m\n\u001b[0;32m   5353\u001b[0m     \u001b[39mraise\u001b[39;00m \u001b[39mValueError\u001b[39;00m(\u001b[39m'\u001b[39m\u001b[39mUnsupported type of edges:\u001b[39m\u001b[39m'\u001b[39m, \u001b[39mtype\u001b[39m(edges))\n\u001b[0;32m   5355\u001b[0m \u001b[39mwith\u001b[39;00m \u001b[39mself\u001b[39m\u001b[39m.\u001b[39mlocal_scope():\n\u001b[1;32m-> 5356\u001b[0m     \u001b[39mself\u001b[39m\u001b[39m.\u001b[39mapply_edges(\u001b[39mlambda\u001b[39;00m ebatch: {\u001b[39m'\u001b[39m\u001b[39m_mask\u001b[39m\u001b[39m'\u001b[39m : predicate(ebatch)}, edges, etype)\n\u001b[0;32m   5357\u001b[0m     etype \u001b[39m=\u001b[39m \u001b[39mself\u001b[39m\u001b[39m.\u001b[39mcanonical_etypes[\u001b[39m0\u001b[39m] \u001b[39mif\u001b[39;00m etype \u001b[39mis\u001b[39;00m \u001b[39mNone\u001b[39;00m \u001b[39melse\u001b[39;00m etype\n\u001b[0;32m   5358\u001b[0m     mask \u001b[39m=\u001b[39m \u001b[39mself\u001b[39m\u001b[39m.\u001b[39medges[etype]\u001b[39m.\u001b[39mdata[\u001b[39m'\u001b[39m\u001b[39m_mask\u001b[39m\u001b[39m'\u001b[39m]\n",
      "\u001b[1;31mTypeError\u001b[0m: edge_filter() missing 1 required positional argument: 'eid'"
     ]
    }
   ],
   "source": [
    "def edge_filter(edata):\n",
    "    return edata['feat'][0] == 1\n",
    "\n",
    "g_sub = g.filter_edges(edge_filter)"
   ]
  },
  {
   "cell_type": "code",
   "execution_count": null,
   "metadata": {},
   "outputs": [],
   "source": [
    "def has_dst_one(edges): return (edges.dst['x'] == 1).squeeze(1)"
   ]
  },
  {
   "cell_type": "code",
   "execution_count": 23,
   "metadata": {},
   "outputs": [
    {
     "name": "stderr",
     "output_type": "stream",
     "text": [
      "c:\\Users\\roman\\miniforge3\\envs\\AI\\lib\\site-packages\\dgl\\heterograph.py:72: DGLWarning: Recommend creating graphs by `dgl.graph(data)` instead of `dgl.DGLGraph(data)`.\n",
      "  dgl_warning('Recommend creating graphs by `dgl.graph(data)`'\n"
     ]
    }
   ],
   "source": [
    "import dgl\n",
    "\n",
    "# create a graph\n",
    "g = dgl.DGLGraph()\n",
    "g.add_nodes(4)\n",
    "g.add_edges([0, 1, 2, 3], [1, 2, 3, 0])\n",
    "\n",
    "# add edge features\n",
    "edge_features = torch.Tensor([[1, 2, 3], [0, 1, 2], [1, 0, 0], [0, 1, 1]])\n",
    "g.edata['feat'] = edge_features\n",
    "\n",
    "# filter edges\n",
    "subg = g.filter_edges(lambda edges: edges.data['feat'][:, 0] == 1)"
   ]
  }
 ],
 "metadata": {
  "kernelspec": {
   "display_name": "AI",
   "language": "python",
   "name": "python3"
  },
  "language_info": {
   "codemirror_mode": {
    "name": "ipython",
    "version": 3
   },
   "file_extension": ".py",
   "mimetype": "text/x-python",
   "name": "python",
   "nbconvert_exporter": "python",
   "pygments_lexer": "ipython3",
   "version": "3.10.8"
  },
  "orig_nbformat": 4,
  "vscode": {
   "interpreter": {
    "hash": "3033f848ed370738630f3a3cb9a7f2f4870fa28c419203709bd755408439557d"
   }
  }
 },
 "nbformat": 4,
 "nbformat_minor": 2
}
